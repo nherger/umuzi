{
  "nbformat": 4,
  "nbformat_minor": 0,
  "metadata": {
    "colab": {
      "name": "Umuzi_salary_assignment1",
      "version": "0.3.2",
      "provenance": [],
      "collapsed_sections": [],
      "include_colab_link": true
    },
    "kernelspec": {
      "name": "python3",
      "display_name": "Python 3"
    }
  },
  "cells": [
    {
      "cell_type": "markdown",
      "metadata": {
        "id": "view-in-github",
        "colab_type": "text"
      },
      "source": [
        "<a href=\"https://colab.research.google.com/github/nherger/umuzi/blob/master/Umuzi_salary_assignment1.ipynb\" target=\"_parent\"><img src=\"https://colab.research.google.com/assets/colab-badge.svg\" alt=\"Open In Colab\"/></a>"
      ]
    },
    {
      "metadata": {
        "id": "KDBUqVzY9CP9",
        "colab_type": "text"
      },
      "cell_type": "markdown",
      "source": [
        "Exercise link: https://github.com/Umuzi-org/salary/blob/master/assignment1.md\n",
        "\n",
        "Please write to us in the *umuzi_coders* slack channel if anything is unclear."
      ]
    },
    {
      "metadata": {
        "id": "HIOVnX6OyArS",
        "colab_type": "text"
      },
      "cell_type": "markdown",
      "source": [
        "Import required modules."
      ]
    },
    {
      "metadata": {
        "id": "DcluejyRBltu",
        "colab_type": "code",
        "colab": {}
      },
      "cell_type": "code",
      "source": [
        "import matplotlib.pyplot as plt\n",
        "import math\n",
        "import seaborn as sns\n",
        "import pandas as pd\n",
        "from scipy.stats import stats "
      ],
      "execution_count": 0,
      "outputs": []
    },
    {
      "metadata": {
        "id": "jujEOqxFJ3CF",
        "colab_type": "text"
      },
      "cell_type": "markdown",
      "source": [
        "# Assignment 1"
      ]
    },
    {
      "metadata": {
        "id": "AVxMeq9RyQDA",
        "colab_type": "text"
      },
      "cell_type": "markdown",
      "source": [
        "Import the data *salary.csv* and store as a pandas dataframe."
      ]
    },
    {
      "metadata": {
        "id": "EsNmPl_55fsj",
        "colab_type": "code",
        "outputId": "cbd4c43b-f927-4ce8-ae65-223c5e7a3f66",
        "colab": {
          "base_uri": "https://localhost:8080/",
          "height": 204
        }
      },
      "cell_type": "code",
      "source": [
        "df_salary = pd.read_csv('https://raw.githubusercontent.com/Umuzi-org/salary/master/salary.csv')\n",
        "df_salary.head()"
      ],
      "execution_count": 0,
      "outputs": [
        {
          "output_type": "execute_result",
          "data": {
            "text/html": [
              "<div>\n",
              "<style scoped>\n",
              "    .dataframe tbody tr th:only-of-type {\n",
              "        vertical-align: middle;\n",
              "    }\n",
              "\n",
              "    .dataframe tbody tr th {\n",
              "        vertical-align: top;\n",
              "    }\n",
              "\n",
              "    .dataframe thead th {\n",
              "        text-align: right;\n",
              "    }\n",
              "</style>\n",
              "<table border=\"1\" class=\"dataframe\">\n",
              "  <thead>\n",
              "    <tr style=\"text-align: right;\">\n",
              "      <th></th>\n",
              "      <th>salary</th>\n",
              "      <th>exprior</th>\n",
              "      <th>yearsworked</th>\n",
              "      <th>yearsrank</th>\n",
              "      <th>market</th>\n",
              "      <th>degree</th>\n",
              "      <th>otherqual</th>\n",
              "      <th>position</th>\n",
              "      <th>male</th>\n",
              "      <th>Field</th>\n",
              "      <th>yearsabs</th>\n",
              "    </tr>\n",
              "  </thead>\n",
              "  <tbody>\n",
              "    <tr>\n",
              "      <th>0</th>\n",
              "      <td>53000.0</td>\n",
              "      <td>0</td>\n",
              "      <td>0</td>\n",
              "      <td>0</td>\n",
              "      <td>1.17</td>\n",
              "      <td>1</td>\n",
              "      <td>0</td>\n",
              "      <td>1</td>\n",
              "      <td>1</td>\n",
              "      <td>3</td>\n",
              "      <td>0</td>\n",
              "    </tr>\n",
              "    <tr>\n",
              "      <th>1</th>\n",
              "      <td>58000.0</td>\n",
              "      <td>1</td>\n",
              "      <td>0</td>\n",
              "      <td>0</td>\n",
              "      <td>1.24</td>\n",
              "      <td>1</td>\n",
              "      <td>0</td>\n",
              "      <td>1</td>\n",
              "      <td>1</td>\n",
              "      <td>2</td>\n",
              "      <td>0</td>\n",
              "    </tr>\n",
              "    <tr>\n",
              "      <th>2</th>\n",
              "      <td>45500.0</td>\n",
              "      <td>0</td>\n",
              "      <td>0</td>\n",
              "      <td>0</td>\n",
              "      <td>1.21</td>\n",
              "      <td>1</td>\n",
              "      <td>0</td>\n",
              "      <td>1</td>\n",
              "      <td>1</td>\n",
              "      <td>3</td>\n",
              "      <td>2</td>\n",
              "    </tr>\n",
              "    <tr>\n",
              "      <th>3</th>\n",
              "      <td>35782.0</td>\n",
              "      <td>0</td>\n",
              "      <td>2</td>\n",
              "      <td>1</td>\n",
              "      <td>0.99</td>\n",
              "      <td>1</td>\n",
              "      <td>0</td>\n",
              "      <td>1</td>\n",
              "      <td>1</td>\n",
              "      <td>4</td>\n",
              "      <td>1</td>\n",
              "    </tr>\n",
              "    <tr>\n",
              "      <th>4</th>\n",
              "      <td>34731.0</td>\n",
              "      <td>0</td>\n",
              "      <td>2</td>\n",
              "      <td>2</td>\n",
              "      <td>0.91</td>\n",
              "      <td>1</td>\n",
              "      <td>0</td>\n",
              "      <td>1</td>\n",
              "      <td>1</td>\n",
              "      <td>4</td>\n",
              "      <td>1</td>\n",
              "    </tr>\n",
              "  </tbody>\n",
              "</table>\n",
              "</div>"
            ],
            "text/plain": [
              "    salary  exprior  yearsworked  yearsrank  market  degree  otherqual  \\\n",
              "0  53000.0        0            0          0    1.17       1          0   \n",
              "1  58000.0        1            0          0    1.24       1          0   \n",
              "2  45500.0        0            0          0    1.21       1          0   \n",
              "3  35782.0        0            2          1    0.99       1          0   \n",
              "4  34731.0        0            2          2    0.91       1          0   \n",
              "\n",
              "   position  male  Field  yearsabs  \n",
              "0         1     1      3         0  \n",
              "1         1     1      2         0  \n",
              "2         1     1      3         2  \n",
              "3         1     1      4         1  \n",
              "4         1     1      4         1  "
            ]
          },
          "metadata": {
            "tags": []
          },
          "execution_count": 2
        }
      ]
    },
    {
      "metadata": {
        "id": "wii2VvyxBxv7",
        "colab_type": "text"
      },
      "cell_type": "markdown",
      "source": [
        "##**1. How many responders are there? Are there any missing values in any of the variables?**"
      ]
    },
    {
      "metadata": {
        "id": "fXYnpSFQ6v12",
        "colab_type": "code",
        "outputId": "60e1c21d-e5cd-4bfa-f767-01dfca4c6f30",
        "colab": {
          "base_uri": "https://localhost:8080/",
          "height": 34
        }
      },
      "cell_type": "code",
      "source": [
        "print('There are ' + str(len(df_salary)) + ' responders (number of rows).')"
      ],
      "execution_count": 0,
      "outputs": [
        {
          "output_type": "stream",
          "text": [
            "There are 514 responders (number of rows).\n"
          ],
          "name": "stdout"
        }
      ]
    },
    {
      "metadata": {
        "id": "1mC6rOD8CZUK",
        "colab_type": "code",
        "outputId": "263794f2-d334-4009-9215-b3b5fdffa926",
        "colab": {
          "base_uri": "https://localhost:8080/",
          "height": 221
        }
      },
      "cell_type": "code",
      "source": [
        "df_salary.isnull().sum()\n",
        "# There is one missing value in the salary column."
      ],
      "execution_count": 0,
      "outputs": [
        {
          "output_type": "execute_result",
          "data": {
            "text/plain": [
              "salary         1\n",
              "exprior        0\n",
              "yearsworked    0\n",
              "yearsrank      0\n",
              "market         0\n",
              "degree         0\n",
              "otherqual      0\n",
              "position       0\n",
              "male           0\n",
              "Field          0\n",
              "yearsabs       0\n",
              "dtype: int64"
            ]
          },
          "metadata": {
            "tags": []
          },
          "execution_count": 4
        }
      ]
    },
    {
      "metadata": {
        "id": "THBDNT9xKsKX",
        "colab_type": "text"
      },
      "cell_type": "markdown",
      "source": [
        "Drop the row which contains the missing value (in this case just 1)."
      ]
    },
    {
      "metadata": {
        "id": "KKKMTENPKnQq",
        "colab_type": "code",
        "colab": {}
      },
      "cell_type": "code",
      "source": [
        "df_salary = df_salary.dropna()"
      ],
      "execution_count": 0,
      "outputs": []
    },
    {
      "metadata": {
        "id": "hvKe6JCWCDGI",
        "colab_type": "text"
      },
      "cell_type": "markdown",
      "source": [
        "##**2. What is the lowest salary and highest salary in the group?**"
      ]
    },
    {
      "metadata": {
        "id": "ASY8FBG9Cdgm",
        "colab_type": "code",
        "outputId": "28e127c0-3559-4bc2-9547-9e41afecb77d",
        "colab": {
          "base_uri": "https://localhost:8080/",
          "height": 51
        }
      },
      "cell_type": "code",
      "source": [
        "print('Lowest salary: $' + str(df_salary.salary.min()))\n",
        "print('Highest salary: $' + str(df_salary.salary.max()))"
      ],
      "execution_count": 0,
      "outputs": [
        {
          "output_type": "stream",
          "text": [
            "Lowest salary: $29000.0\n",
            "Highest salary: $96156.0\n"
          ],
          "name": "stdout"
        }
      ]
    },
    {
      "metadata": {
        "id": "umgpXrtjDCtd",
        "colab_type": "text"
      },
      "cell_type": "markdown",
      "source": [
        "##**3. What is the mean salary for the sample? Include the standard error of the mean.**"
      ]
    },
    {
      "metadata": {
        "id": "0r3Et4B2DA9Y",
        "colab_type": "code",
        "outputId": "da2c3651-3925-4267-f7a1-f0c0054db4b0",
        "colab": {
          "base_uri": "https://localhost:8080/",
          "height": 51
        }
      },
      "cell_type": "code",
      "source": [
        "print('Mean salary: $' + str(round(df_salary.salary.mean(), 2)))\n",
        "print('Standard error of the mean: $' + str(round(df_salary.salary.sem(),2)))"
      ],
      "execution_count": 0,
      "outputs": [
        {
          "output_type": "stream",
          "text": [
            "Mean salary: $50863.22\n",
            "Standard error of the mean: $560.06\n"
          ],
          "name": "stdout"
        }
      ]
    },
    {
      "metadata": {
        "colab_type": "text",
        "id": "73kqh-GCDGjp"
      },
      "cell_type": "markdown",
      "source": [
        "##**4. What is the standard deviation for the years worked?**"
      ]
    },
    {
      "metadata": {
        "colab_type": "code",
        "id": "KcJ_bMGeDGjp",
        "outputId": "da9b748d-d501-4ca7-841b-f5c7d8176199",
        "colab": {
          "base_uri": "https://localhost:8080/",
          "height": 34
        }
      },
      "cell_type": "code",
      "source": [
        "print('Standard deviation of years worked: ' + str(round(df_salary.yearsworked.std(), 2)) + ' years')"
      ],
      "execution_count": 0,
      "outputs": [
        {
          "output_type": "stream",
          "text": [
            "Standard deviation of years worked: 9.45 years\n"
          ],
          "name": "stdout"
        }
      ]
    },
    {
      "metadata": {
        "colab_type": "text",
        "id": "VJT3W04GD2BK"
      },
      "cell_type": "markdown",
      "source": [
        "##**5. What is the median salary for the sample?**"
      ]
    },
    {
      "metadata": {
        "colab_type": "code",
        "id": "q6xyMI9JD2BL",
        "outputId": "2e36fe6c-d7a8-424b-b28f-5289776fe51e",
        "colab": {
          "base_uri": "https://localhost:8080/",
          "height": 34
        }
      },
      "cell_type": "code",
      "source": [
        "print('Median salary: $' + str(df_salary.salary.median()))"
      ],
      "execution_count": 0,
      "outputs": [
        {
          "output_type": "stream",
          "text": [
            "Median salary: $50096.0\n"
          ],
          "name": "stdout"
        }
      ]
    },
    {
      "metadata": {
        "colab_type": "text",
        "id": "nEiinmuND2rS"
      },
      "cell_type": "markdown",
      "source": [
        "##**6. What is the interquartile range for salary in the sample?**"
      ]
    },
    {
      "metadata": {
        "colab_type": "code",
        "id": "-9rZ7PVHD2rU",
        "outputId": "7e13590c-658d-4729-a3df-32930c8e444f",
        "colab": {
          "base_uri": "https://localhost:8080/",
          "height": 34
        }
      },
      "cell_type": "code",
      "source": [
        "Q1 = df_salary.salary.quantile(0.25)\n",
        "Q3 = df_salary.salary.quantile(0.75)\n",
        "print('IQR for salary: $' + str(Q3 - Q1))\n",
        "\n",
        "# Alternative: stats.iqr(df_salary.salary)"
      ],
      "execution_count": 0,
      "outputs": [
        {
          "output_type": "stream",
          "text": [
            "IQR for salary: $20345.0\n"
          ],
          "name": "stdout"
        }
      ]
    },
    {
      "metadata": {
        "id": "DdUrBFO9-BOD",
        "colab_type": "text"
      },
      "cell_type": "markdown",
      "source": [
        "The [interquartile range (IQR)](https://en.wikipedia.org/wiki/Interquartile_range) is the differerence between the 75th (Q3) and 25th (Q1) percentile of the distribution."
      ]
    },
    {
      "metadata": {
        "colab_type": "text",
        "id": "C52vJ8FlD3PX"
      },
      "cell_type": "markdown",
      "source": [
        "##**7. How many men are there in the sample? How many women are there in the sample? Present this information in a table.**\n"
      ]
    },
    {
      "metadata": {
        "colab_type": "code",
        "id": "t9ULHhSkD3PX",
        "outputId": "c6e2e171-c42a-456c-dc80-ba20bfe6b384",
        "colab": {
          "base_uri": "https://localhost:8080/",
          "height": 80
        }
      },
      "cell_type": "code",
      "source": [
        "pd.DataFrame(data = {'men': [df_salary.male.sum()], 'women': [sum(df_salary.male==0)]})\n",
        "# Alternative: df_salary.male.value_counts()"
      ],
      "execution_count": 0,
      "outputs": [
        {
          "output_type": "execute_result",
          "data": {
            "text/html": [
              "<div>\n",
              "<style scoped>\n",
              "    .dataframe tbody tr th:only-of-type {\n",
              "        vertical-align: middle;\n",
              "    }\n",
              "\n",
              "    .dataframe tbody tr th {\n",
              "        vertical-align: top;\n",
              "    }\n",
              "\n",
              "    .dataframe thead th {\n",
              "        text-align: right;\n",
              "    }\n",
              "</style>\n",
              "<table border=\"1\" class=\"dataframe\">\n",
              "  <thead>\n",
              "    <tr style=\"text-align: right;\">\n",
              "      <th></th>\n",
              "      <th>men</th>\n",
              "      <th>women</th>\n",
              "    </tr>\n",
              "  </thead>\n",
              "  <tbody>\n",
              "    <tr>\n",
              "      <th>0</th>\n",
              "      <td>385</td>\n",
              "      <td>128</td>\n",
              "    </tr>\n",
              "  </tbody>\n",
              "</table>\n",
              "</div>"
            ],
            "text/plain": [
              "   men  women\n",
              "0  385    128"
            ]
          },
          "metadata": {
            "tags": []
          },
          "execution_count": 11
        }
      ]
    },
    {
      "metadata": {
        "colab_type": "text",
        "id": "4Sj06eqTD30A"
      },
      "cell_type": "markdown",
      "source": [
        "##**8. How many women are executives compared to men?**"
      ]
    },
    {
      "metadata": {
        "colab_type": "code",
        "id": "nrFcQwxID30B",
        "outputId": "b856db86-cda1-4f7a-c393-131364e85015",
        "colab": {
          "base_uri": "https://localhost:8080/",
          "height": 51
        }
      },
      "cell_type": "code",
      "source": [
        "women_exec = len(df_salary[(df_salary.male==0) & (df_salary.position==3)])\n",
        "men_exec = len(df_salary[(df_salary.male==1) & (df_salary.position==3)])\n",
        "print('Female executives: ' + str(women_exec))\n",
        "print('Male executives: ' + str(men_exec))"
      ],
      "execution_count": 0,
      "outputs": [
        {
          "output_type": "stream",
          "text": [
            "Female executives: 19\n",
            "Male executives: 191\n"
          ],
          "name": "stdout"
        }
      ]
    },
    {
      "metadata": {
        "colab_type": "text",
        "id": "OFvu2-MUD4I8"
      },
      "cell_type": "markdown",
      "source": [
        "##**9. Create a histogram for the variable Salary.**"
      ]
    },
    {
      "metadata": {
        "colab_type": "code",
        "id": "IQwC2HnvD4I9",
        "outputId": "92ea785b-f621-4b75-dc99-3df27586fb15",
        "colab": {
          "base_uri": "https://localhost:8080/",
          "height": 361
        }
      },
      "cell_type": "code",
      "source": [
        "df_salary.salary.plot(kind = 'hist')\n",
        "plt.xlabel('Salary')\n",
        "plt.show()"
      ],
      "execution_count": 0,
      "outputs": [
        {
          "output_type": "display_data",
          "data": {
            "image/png": "[encoded data removed]",
            "text/plain": [
              "<Figure size 576x396 with 1 Axes>"
            ]
          },
          "metadata": {
            "tags": []
          }
        }
      ]
    },
    {
      "metadata": {
        "colab_type": "text",
        "id": "WzBIqeAMD4p5"
      },
      "cell_type": "markdown",
      "source": [
        "##**10. Examine the histogram and describe the distribution for Salary.**"
      ]
    },
    {
      "metadata": {
        "id": "3IwVIvYyIXpv",
        "colab_type": "text"
      },
      "cell_type": "markdown",
      "source": [
        "The salary ranges from around 30000 dollars to over 90000 dollars, with the bulk around 50000 dollars. The distribution is right-skewed, meaning the distribution is not symmetric around the mean and the tail of the distribution is longer on the right hand side than on the left hand side."
      ]
    },
    {
      "metadata": {
        "colab_type": "text",
        "id": "_muqrn9QHGtB"
      },
      "cell_type": "markdown",
      "source": [
        "##**11. Create a bar graph to show the different average salaries of men and women. (Bonus: Add error bars to the bars showing the 95% confidence interval). What does the graph tell you about the difference between men and women’s salaries?**"
      ]
    },
    {
      "metadata": {
        "id": "tX8W-R5R3RdP",
        "colab_type": "code",
        "outputId": "52182224-3acc-4974-953f-2f7637c428c6",
        "colab": {
          "base_uri": "https://localhost:8080/",
          "height": 142
        }
      },
      "cell_type": "code",
      "source": [
        "stats_df = df_salary.groupby('male').salary.agg(['mean', 'count', 'std'])\n",
        "stats_df['conf_95'] = stats_df.apply(lambda row: 1.96*row['std']/math.sqrt(row['count']), axis=1)\n",
        "stats_df"
      ],
      "execution_count": 0,
      "outputs": [
        {
          "output_type": "execute_result",
          "data": {
            "text/html": [
              "<div>\n",
              "<style scoped>\n",
              "    .dataframe tbody tr th:only-of-type {\n",
              "        vertical-align: middle;\n",
              "    }\n",
              "\n",
              "    .dataframe tbody tr th {\n",
              "        vertical-align: top;\n",
              "    }\n",
              "\n",
              "    .dataframe thead th {\n",
              "        text-align: right;\n",
              "    }\n",
              "</style>\n",
              "<table border=\"1\" class=\"dataframe\">\n",
              "  <thead>\n",
              "    <tr style=\"text-align: right;\">\n",
              "      <th></th>\n",
              "      <th>mean</th>\n",
              "      <th>count</th>\n",
              "      <th>std</th>\n",
              "      <th>conf_95</th>\n",
              "    </tr>\n",
              "    <tr>\n",
              "      <th>male</th>\n",
              "      <th></th>\n",
              "      <th></th>\n",
              "      <th></th>\n",
              "      <th></th>\n",
              "    </tr>\n",
              "  </thead>\n",
              "  <tbody>\n",
              "    <tr>\n",
              "      <th>0</th>\n",
              "      <td>42916.604797</td>\n",
              "      <td>128</td>\n",
              "      <td>9161.609591</td>\n",
              "      <td>1587.167886</td>\n",
              "    </tr>\n",
              "    <tr>\n",
              "      <th>1</th>\n",
              "      <td>53505.211678</td>\n",
              "      <td>385</td>\n",
              "      <td>12599.304199</td>\n",
              "      <td>1258.555200</td>\n",
              "    </tr>\n",
              "  </tbody>\n",
              "</table>\n",
              "</div>"
            ],
            "text/plain": [
              "              mean  count           std      conf_95\n",
              "male                                                \n",
              "0     42916.604797    128   9161.609591  1587.167886\n",
              "1     53505.211678    385  12599.304199  1258.555200"
            ]
          },
          "metadata": {
            "tags": []
          },
          "execution_count": 14
        }
      ]
    },
    {
      "metadata": {
        "id": "utN4k56vCMM9",
        "colab_type": "text"
      },
      "cell_type": "markdown",
      "source": [
        "The equation for the confidence interval can be found here: https://stackoverflow.com/questions/15033511/compute-a-confidence-interval-from-sample-data"
      ]
    },
    {
      "metadata": {
        "colab_type": "code",
        "id": "_6ABlh8OHGtC",
        "outputId": "ad0c5ee2-2e1a-4e1f-d848-6a78efe598cc",
        "colab": {
          "base_uri": "https://localhost:8080/",
          "height": 381
        }
      },
      "cell_type": "code",
      "source": [
        "ax = stats_df['mean'].plot(kind = 'bar', yerr=stats_df['conf_95'])\n",
        "ax.set_xticklabels(['female', 'male'])\n",
        "plt.ylabel('Average Salary [$]')\n",
        "plt.xlabel('Gender')\n",
        "plt.show()"
      ],
      "execution_count": 0,
      "outputs": [
        {
          "output_type": "display_data",
          "data": {
            "image/png": "[encoded data removed]",
            "text/plain": [
              "<Figure size 576x396 with 1 Axes>"
            ]
          },
          "metadata": {
            "tags": []
          }
        }
      ]
    },
    {
      "metadata": {
        "id": "vx0yfDLy0hQ-",
        "colab_type": "text"
      },
      "cell_type": "markdown",
      "source": [
        "The average salary of men (in green) is higher than the one of women (in blue). Note that the 95% confidence intervals of the two distributions do not overlap, suggesting that the difference in salaries between the men and women is significant."
      ]
    },
    {
      "metadata": {
        "colab_type": "text",
        "id": "xXS82CzIHHGt"
      },
      "cell_type": "markdown",
      "source": [
        "##**12. Create a scatterplot with seaborn showing the relationship between Years Worked and Salary (don’t forget to insert a trend line).**"
      ]
    },
    {
      "metadata": {
        "colab_type": "code",
        "id": "hD_TLulfHHGu",
        "outputId": "8ea3ab75-7d48-40f5-efb4-fff850dc5a9e",
        "colab": {
          "base_uri": "https://localhost:8080/",
          "height": 378
        }
      },
      "cell_type": "code",
      "source": [
        "sns.regplot(df_salary.yearsworked, df_salary.salary)"
      ],
      "execution_count": 0,
      "outputs": [
        {
          "output_type": "execute_result",
          "data": {
            "text/plain": [
              "<matplotlib.axes._subplots.AxesSubplot at 0x7fcda88aaf98>"
            ]
          },
          "metadata": {
            "tags": []
          },
          "execution_count": 16
        },
        {
          "output_type": "display_data",
          "data": {
            "image/png": "[encoded data removed]",
            "text/plain": [
              "<Figure size 576x396 with 1 Axes>"
            ]
          },
          "metadata": {
            "tags": []
          }
        }
      ]
    },
    {
      "metadata": {
        "id": "UHYn6eCmIsQl",
        "colab_type": "text"
      },
      "cell_type": "markdown",
      "source": [
        "**What is the relationship between Years Worked and Salary? Describe any patterns in the scatterplot.**\n"
      ]
    },
    {
      "metadata": {
        "id": "WpJd5ugmnQG0",
        "colab_type": "text"
      },
      "cell_type": "markdown",
      "source": [
        "There is a positive relationship between years worked and salary. I.e as the number of years worked increases, the salary generally increases.\n",
        "\n",
        "Note that the years worked are discretised, leading to the markers being aligned vertically at intervals of one year."
      ]
    },
    {
      "metadata": {
        "id": "02NMFkR8I1sP",
        "colab_type": "text"
      },
      "cell_type": "markdown",
      "source": [
        "**Do you notice any unusual/extreme values that do not fit the general trend? If you see any unusual values, briefly describe them (Who are they? In what way are they different?)**"
      ]
    },
    {
      "metadata": {
        "id": "hRfFbzUwkPz_",
        "colab_type": "text"
      },
      "cell_type": "markdown",
      "source": [
        "There are some outliers where people get more pay for less years worked."
      ]
    },
    {
      "metadata": {
        "id": "XWERZ_MZI542",
        "colab_type": "code",
        "outputId": "34be5acf-c4ae-4c97-a3aa-29e0d58ed69e",
        "colab": {
          "base_uri": "https://localhost:8080/",
          "height": 80
        }
      },
      "cell_type": "code",
      "source": [
        "df_salary[df_salary.salary == df_salary.salary.max()]"
      ],
      "execution_count": 0,
      "outputs": [
        {
          "output_type": "execute_result",
          "data": {
            "text/html": [
              "<div>\n",
              "<style scoped>\n",
              "    .dataframe tbody tr th:only-of-type {\n",
              "        vertical-align: middle;\n",
              "    }\n",
              "\n",
              "    .dataframe tbody tr th {\n",
              "        vertical-align: top;\n",
              "    }\n",
              "\n",
              "    .dataframe thead th {\n",
              "        text-align: right;\n",
              "    }\n",
              "</style>\n",
              "<table border=\"1\" class=\"dataframe\">\n",
              "  <thead>\n",
              "    <tr style=\"text-align: right;\">\n",
              "      <th></th>\n",
              "      <th>salary</th>\n",
              "      <th>exprior</th>\n",
              "      <th>yearsworked</th>\n",
              "      <th>yearsrank</th>\n",
              "      <th>market</th>\n",
              "      <th>degree</th>\n",
              "      <th>otherqual</th>\n",
              "      <th>position</th>\n",
              "      <th>male</th>\n",
              "      <th>Field</th>\n",
              "      <th>yearsabs</th>\n",
              "    </tr>\n",
              "  </thead>\n",
              "  <tbody>\n",
              "    <tr>\n",
              "      <th>377</th>\n",
              "      <td>96156.0</td>\n",
              "      <td>20</td>\n",
              "      <td>12</td>\n",
              "      <td>12</td>\n",
              "      <td>1.19</td>\n",
              "      <td>1</td>\n",
              "      <td>0</td>\n",
              "      <td>3</td>\n",
              "      <td>1</td>\n",
              "      <td>1</td>\n",
              "      <td>2</td>\n",
              "    </tr>\n",
              "  </tbody>\n",
              "</table>\n",
              "</div>"
            ],
            "text/plain": [
              "      salary  exprior  yearsworked  yearsrank  market  degree  otherqual  \\\n",
              "377  96156.0       20           12         12    1.19       1          0   \n",
              "\n",
              "     position  male  Field  yearsabs  \n",
              "377         3     1      1         2  "
            ]
          },
          "metadata": {
            "tags": []
          },
          "execution_count": 17
        }
      ]
    },
    {
      "metadata": {
        "id": "ksZCibFhDb9a",
        "colab_type": "text"
      },
      "cell_type": "markdown",
      "source": [
        "The example above contains infomation about the person with the highest salary, and is very far away from the trend line. He has only 12 years of work experience, but a very high salary compared to his peers. This indicates that there might be other factors relevant to predict someone's salary (like degree or exprior)."
      ]
    },
    {
      "metadata": {
        "colab_type": "text",
        "id": "yfoxbm8yHHfC"
      },
      "cell_type": "markdown",
      "source": [
        "##**13. Using the pearsonr function from the scipy.stats package, calculate the Pearson correlation coefficient (and its corresponding p value) to determine the nature of the relationship between Years Worked and Salary. See help(pearsonr) for help on this function.**"
      ]
    },
    {
      "metadata": {
        "colab_type": "code",
        "id": "ZNIE1U-JHHfC",
        "outputId": "cbf51c55-fa80-4ac5-e481-0b31dd375650",
        "colab": {
          "base_uri": "https://localhost:8080/",
          "height": 51
        }
      },
      "cell_type": "code",
      "source": [
        "r, p = stats.pearsonr(df_salary.yearsworked, df_salary.salary)\n",
        "print('The correlation coefficient is ' + str(round(r, 2)))\n",
        "print('The p-value is ' + str(round(p, 2)))"
      ],
      "execution_count": 0,
      "outputs": [
        {
          "output_type": "stream",
          "text": [
            "The correlation coefficient is 0.62\n",
            "The p-value is 0.0\n"
          ],
          "name": "stdout"
        }
      ]
    },
    {
      "metadata": {
        "colab_type": "text",
        "id": "7ko83SYuHH7K"
      },
      "cell_type": "markdown",
      "source": [
        "**Interpret the size and direction of the correlation statistic.**"
      ]
    },
    {
      "metadata": {
        "id": "NIw4f5NOmuEh",
        "colab_type": "text"
      },
      "cell_type": "markdown",
      "source": [
        "There is a moderately strong and positive relationship (corr. coef > 0) between years worked and salary. I.e. as the plot shows above, as the years worked increases, the salary tends to increase too."
      ]
    },
    {
      "metadata": {
        "id": "SolPuDDnJlmn",
        "colab_type": "text"
      },
      "cell_type": "markdown",
      "source": [
        "**Is the relationship statistically significant? Report the appropriate statistic(s) to support your answer.**"
      ]
    },
    {
      "metadata": {
        "id": "bUaBdohDhAqM",
        "colab_type": "text"
      },
      "cell_type": "markdown",
      "source": [
        "Yes, the relationship is statistically significant because p < 0.05. You can read up more about p-values and what they tell us about statistical significance here: https://www.statsdirect.com/help/basics/p_values.htm. Note that the p-value is 1.29 * 10^-56, therefore a very small number."
      ]
    }
  ]
}